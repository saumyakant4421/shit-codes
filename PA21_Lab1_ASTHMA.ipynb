{
 "cells": [
  {
   "cell_type": "code",
   "execution_count": 2,
   "metadata": {
    "id": "FX0wdhhwSEwW"
   },
   "outputs": [
    {
     "name": "stderr",
     "output_type": "stream",
     "text": [
      "[nltk_data] Downloading package stopwords to\n",
      "[nltk_data]     /home/codespace/nltk_data...\n",
      "[nltk_data]   Package stopwords is already up-to-date!\n",
      "[nltk_data] Downloading package punkt to /home/codespace/nltk_data...\n",
      "[nltk_data]   Package punkt is already up-to-date!\n"
     ]
    },
    {
     "name": "stdout",
     "output_type": "stream",
     "text": [
      "Processed Tokens: ['hello', 'said', 'went', 'alphonso', 'mango', 'favorite', 'fruit', 'whole', 'world']\n",
      "\n",
      "Filtered Data (City == Mumbai):\n",
      "   Customer_ID    City\n",
      "0          101  Mumbai\n",
      "2          103  Mumbai\n",
      "Validation Result: Valid\n"
     ]
    }
   ],
   "source": [
    "\n",
    "import nltk\n",
    "import pandas as pd\n",
    "import re\n",
    "from nltk.corpus import stopwords\n",
    "from nltk.tokenize import word_tokenize\n",
    "\n",
    "# Download required NLTK resources\n",
    "nltk.download('stopwords')\n",
    "nltk.download('punkt')\n",
    "\n",
    "# Step 1: Lowercase Conversion\n",
    "def lower_case_text(text):\n",
    "    return text.lower()\n",
    "\n",
    "# Step 2: Remove Punctuations using regex\n",
    "def remove_punctuations(text):\n",
    "    return re.sub(r'[^\\w\\s]', '', text)\n",
    "\n",
    "# Step 3: Tokenization\n",
    "def tokenize(text):\n",
    "    return word_tokenize(text)\n",
    "\n",
    "# Step 4: Stopword Removal\n",
    "stop_words = set(stopwords.words('english'))\n",
    "def remove_stopwords(tokens):\n",
    "    return [token for token in tokens if token not in stop_words]\n",
    "\n",
    "# Step 5: Preprocessing Pipeline\n",
    "def pre_process_pipeline(text):\n",
    "    text = lower_case_text(text)\n",
    "    text = remove_punctuations(text)\n",
    "    tokens = tokenize(text)\n",
    "    tokens = remove_stopwords(tokens)\n",
    "    return tokens\n",
    "\n",
    "# Example Usage\n",
    "sample_text = \"Hello!! he said, and went..: (alphonso) mango IS My favorite FruiT in whole World!\"\n",
    "processed_tokens = pre_process_pipeline(sample_text)\n",
    "print(\"Processed Tokens:\", processed_tokens)\n",
    "\n",
    "# Step 6: DataFrame Filtering\n",
    "data = {\n",
    "    'Customer_ID': [101, 102, 103, 104, 105],\n",
    "    'City': ['Mumbai', 'Pune', 'Mumbai', 'Delhi', 'Bangalore']\n",
    "}\n",
    "df = pd.DataFrame(data)\n",
    "filtered_df = df[df['City'] == 'Mumbai']\n",
    "print(\"\\nFiltered Data (City == Mumbai):\")\n",
    "print(filtered_df)\n",
    "\n",
    "# Step 7: Script Validation\n",
    "def validate_script(script, word):\n",
    "    return \"Valid\" if word.lower() in script.lower() else \"Not Valid\"\n",
    "\n",
    "# Taking user input\n",
    "script_input = input(\"\\nEnter the script: \")\n",
    "word_input = input(\"Enter the word to check: \")\n",
    "\n",
    "result = validate_script(script_input, word_input)\n",
    "print(\"Validation Result:\", result)\n"
   ]
  },
  {
   "cell_type": "code",
   "execution_count": null,
   "metadata": {
    "id": "2HtOLrw0SUZr"
   },
   "outputs": [],
   "source": []
  }
 ],
 "metadata": {
  "colab": {
   "provenance": [
    {
     "file_id": "1uJ0vabTwzkho1TheJIYgJMGtjx8iRluc",
     "timestamp": 1738565954070
    },
    {
     "file_id": "1fkVgw0ragwPDDcleOGh6wzHkH8TQ55OC",
     "timestamp": 1737961963110
    }
   ]
  },
  "kernelspec": {
   "display_name": "Python 3",
   "name": "python3"
  },
  "language_info": {
   "codemirror_mode": {
    "name": "ipython",
    "version": 3
   },
   "file_extension": ".py",
   "mimetype": "text/x-python",
   "name": "python",
   "nbconvert_exporter": "python",
   "pygments_lexer": "ipython3",
   "version": "3.12.1"
  }
 },
 "nbformat": 4,
 "nbformat_minor": 0
}
