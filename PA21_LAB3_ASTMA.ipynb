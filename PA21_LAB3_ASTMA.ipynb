{
 "cells": [
  {
   "cell_type": "code",
   "execution_count": 1,
   "metadata": {
    "executionInfo": {
     "elapsed": 7775,
     "status": "ok",
     "timestamp": 1741586893182,
     "user": {
      "displayName": "Parth Kumbhar",
      "userId": "05674009928445710511"
     },
     "user_tz": -330
    },
    "id": "0h3zDoMyjQW3"
   },
   "outputs": [
    {
     "name": "stderr",
     "output_type": "stream",
     "text": [
      "[nltk_data] Downloading package punkt to /home/codespace/nltk_data...\n",
      "[nltk_data]   Package punkt is already up-to-date!\n",
      "[nltk_data] Downloading package stopwords to\n",
      "[nltk_data]     /home/codespace/nltk_data...\n",
      "[nltk_data]   Package stopwords is already up-to-date!\n"
     ]
    },
    {
     "name": "stdout",
     "output_type": "stream",
     "text": [
      "✅ TF-IDF Matrix:\n",
      "    comput  document   languag   librari     natur      nltk     power  \\\n",
      "0  0.00000  0.490479  0.000000  0.000000  0.000000  0.000000  0.000000   \n",
      "1  0.51742  0.000000  0.000000  0.000000  0.000000  0.393511  0.000000   \n",
      "2  0.00000  0.000000  0.423394  0.423394  0.423394  0.322002  0.423394   \n",
      "\n",
      "    process     sampl   similar      test      text      use  \n",
      "0  0.000000  0.490479  0.373022  0.490479  0.373022  0.00000  \n",
      "1  0.000000  0.000000  0.393511  0.000000  0.393511  0.51742  \n",
      "2  0.423394  0.000000  0.000000  0.000000  0.000000  0.00000  \n",
      "\n",
      "🔍 Cosine Similarity Matrix:\n",
      "          1         2         3\n",
      "1  1.000000  0.293577  0.000000\n",
      "2  0.293577  1.000000  0.126712\n",
      "3  0.000000  0.126712  1.000000\n"
     ]
    }
   ],
   "source": [
    "# Install and import libraries\n",
    "import nltk\n",
    "import pandas as pd\n",
    "from nltk.tokenize import word_tokenize\n",
    "from nltk.stem import PorterStemmer\n",
    "from nltk.corpus import stopwords\n",
    "from sklearn.feature_extraction.text import TfidfVectorizer\n",
    "from sklearn.metrics.pairwise import cosine_similarity\n",
    "\n",
    "# Download required NLTK resources\n",
    "nltk.download('punkt')\n",
    "nltk.download('stopwords')\n",
    "\n",
    "# Sample documents\n",
    "documents = [\n",
    "    'This is sample document for testing the text similarity',\n",
    "    'we will use nltk for computing similarity of text',\n",
    "    'NLTK is powerful library for natural language processing'\n",
    "]\n",
    "\n",
    "# Preprocessing: tokenization, lowercase, stopword removal, stemming\n",
    "def preprocess_and_stem(text):\n",
    "    stemmer = PorterStemmer()\n",
    "    stop_words = set(stopwords.words('english'))\n",
    "    tokens = word_tokenize(text)\n",
    "    return [\n",
    "        stemmer.stem(word.lower())\n",
    "        for word in tokens\n",
    "        if word.isalpha() and word.lower() not in stop_words\n",
    "    ]\n",
    "\n",
    "# Apply preprocessing to all documents\n",
    "preprocessed_docs = [\" \".join(preprocess_and_stem(doc)) for doc in documents]\n",
    "\n",
    "# TF-IDF vectorization\n",
    "tfidf_vectorizer = TfidfVectorizer()\n",
    "tfidf_matrix = tfidf_vectorizer.fit_transform(preprocessed_docs)\n",
    "tfidf_df = pd.DataFrame(tfidf_matrix.toarray(), columns=tfidf_vectorizer.get_feature_names_out())\n",
    "\n",
    "print(\"✅ TF-IDF Matrix:\")\n",
    "print(tfidf_df)\n",
    "\n",
    "# Cosine similarity calculation\n",
    "cosine_sim_matrix = cosine_similarity(tfidf_matrix)\n",
    "cosine_sim_df = pd.DataFrame(cosine_sim_matrix, index=range(1, 4), columns=range(1, 4))\n",
    "\n",
    "print(\"\\n🔍 Cosine Similarity Matrix:\")\n",
    "print(cosine_sim_df)\n"
   ]
  },
  {
   "cell_type": "code",
   "execution_count": null,
   "metadata": {
    "colab": {
     "base_uri": "https://localhost:8080/"
    },
    "executionInfo": {
     "elapsed": 423,
     "status": "ok",
     "timestamp": 1740723801108,
     "user": {
      "displayName": "Parth Kumbhar",
      "userId": "05674009928445710511"
     },
     "user_tz": -330
    },
    "id": "bOzE_dx927xb",
    "outputId": "2fd55ad1-8d4b-4e00-d4f0-e0ba5761bdde"
   },
   "outputs": [
    {
     "name": "stdout",
     "output_type": "stream",
     "text": [
      "Jaccard Similarity Matrix:\n",
      "      1     2    3\n",
      "1  1.00  0.25  0.0\n",
      "2  0.25  1.00  0.1\n",
      "3  0.00  0.10  1.0\n"
     ]
    }
   ],
   "source": [
    "from sklearn.metrics import jaccard_score\n",
    "import numpy as np\n",
    "\n",
    "# Convert tokenized documents to binary bag-of-words representation\n",
    "def binary_bag_of_words(documents, vocabulary):\n",
    "    \"\"\"Convert tokenized documents into binary vectors based on a given vocabulary.\"\"\"\n",
    "    return np.array([[1 if word in doc else 0 for word in vocabulary] for doc in documents])\n",
    "\n",
    "# Get unique words across all documents (vocabulary)\n",
    "unique_words = set(word for doc in preprocessed_doc for word in doc)\n",
    "\n",
    "# Convert documents to binary bag-of-words format\n",
    "binary_matrix = binary_bag_of_words(preprocessed_doc, unique_words)\n",
    "\n",
    "# Compute Jaccard Similarity for each pair of documents\n",
    "num_docs = len(preprocessed_doc)\n",
    "jaccard_sim_matrix = np.zeros((num_docs, num_docs))\n",
    "\n",
    "for i in range(num_docs):\n",
    "    for j in range(num_docs):\n",
    "        jaccard_sim_matrix[i][j] = jaccard_score(binary_matrix[i], binary_matrix[j])\n",
    "\n",
    "# Convert to a DataFrame for better readability\n",
    "jaccard_sim_df = pd.DataFrame(\n",
    "    jaccard_sim_matrix,\n",
    "    index=range(1, num_docs + 1),\n",
    "    columns=range(1, num_docs + 1)\n",
    ")\n",
    "\n",
    "# Display the Jaccard Similarity Matrix\n",
    "print(\"Jaccard Similarity Matrix:\")\n",
    "print(jaccard_sim_df)\n"
   ]
  },
  {
   "cell_type": "code",
   "execution_count": null,
   "metadata": {
    "id": "Y2hcuZUeHHEV"
   },
   "outputs": [],
   "source": []
  }
 ],
 "metadata": {
  "colab": {
   "authorship_tag": "ABX9TyO2IgPs0wVHzR0IriaEfxPj",
   "provenance": []
  },
  "kernelspec": {
   "display_name": "Python 3",
   "name": "python3"
  },
  "language_info": {
   "codemirror_mode": {
    "name": "ipython",
    "version": 3
   },
   "file_extension": ".py",
   "mimetype": "text/x-python",
   "name": "python",
   "nbconvert_exporter": "python",
   "pygments_lexer": "ipython3",
   "version": "3.12.1"
  }
 },
 "nbformat": 4,
 "nbformat_minor": 0
}
