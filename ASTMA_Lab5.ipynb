{
  "nbformat": 4,
  "nbformat_minor": 0,
  "metadata": {
    "colab": {
      "provenance": []
    },
    "kernelspec": {
      "name": "python3",
      "display_name": "Python 3"
    },
    "language_info": {
      "name": "python"
    }
  },
  "cells": [
    {
      "cell_type": "code",
      "source": [
        "import nltk\n",
        "nltk.data.path.append('/root/nltk_data')  # Add this if needed\n",
        "nltk.download('punkt', download_dir='/root/nltk_data')\n",
        "nltk.download('stopwords', download_dir='/root/nltk_data')\n"
      ],
      "metadata": {
        "colab": {
          "base_uri": "https://localhost:8080/"
        },
        "id": "f3H3GskLhLb8",
        "outputId": "6064430c-274c-4626-ab0b-f32e65d7ef2f"
      },
      "execution_count": 4,
      "outputs": [
        {
          "output_type": "stream",
          "name": "stderr",
          "text": [
            "[nltk_data] Downloading package punkt to /root/nltk_data...\n",
            "[nltk_data]   Unzipping tokenizers/punkt.zip.\n",
            "[nltk_data] Downloading package stopwords to /root/nltk_data...\n",
            "[nltk_data]   Unzipping corpora/stopwords.zip.\n"
          ]
        },
        {
          "output_type": "execute_result",
          "data": {
            "text/plain": [
              "True"
            ]
          },
          "metadata": {},
          "execution_count": 4
        }
      ]
    },
    {
      "cell_type": "code",
      "source": [
        "import pandas as pd\n",
        "import numpy as np\n",
        "import matplotlib.pyplot as plt\n",
        "import seaborn as sns\n",
        "import re\n",
        "from nltk.corpus import stopwords\n",
        "from nltk.stem import PorterStemmer\n",
        "from sklearn.model_selection import train_test_split\n",
        "from sklearn.feature_extraction.text import TfidfVectorizer\n",
        "from sklearn.linear_model import LogisticRegression\n",
        "from sklearn.metrics import accuracy_score, classification_report\n",
        "\n",
        "# Load dataset\n",
        "path = \"/content/test.csv\"\n",
        "df = pd.read_csv(path, encoding='latin1')\n",
        "\n",
        "# Handle missing values\n",
        "df.dropna(subset=['text', 'sentiment'], inplace=True)  # Remove rows with missing text/sentiment\n",
        "df['text'] = df['text'].astype(str)  # Convert text column to string\n",
        "\n",
        "# Display dataset info\n",
        "print(df.head())\n",
        "print(df['sentiment'].value_counts())\n",
        "\n",
        "# Preprocessing function\n",
        "def clean_text(text):\n",
        "    text = text.lower()\n",
        "    text = re.sub(r'http\\S+', '', text)  # Remove URLs\n",
        "    text = re.sub(r'[^a-zA-Z0-9\\s]', '', text)  # Remove special characters\n",
        "    tokens = re.findall(r'\\b\\w+\\b', text)  # Tokenization\n",
        "    tokens = [word for word in tokens if word not in stopwords.words('english')]\n",
        "    ps = PorterStemmer()\n",
        "    tokens = [ps.stem(word) for word in tokens]\n",
        "    return \" \".join(tokens)\n",
        "\n",
        "df['cleaned_text'] = df['text'].apply(clean_text)\n",
        "\n",
        "# Convert labels to numeric\n",
        "df['sentiment'] = df['sentiment'].map({'positive': 1, 'neutral': 0, 'negative': -1})\n",
        "\n",
        "# Visualizing Sentiment Distribution\n",
        "sns.countplot(x=df['sentiment'])\n",
        "plt.title(\"Sentiment Distribution\")\n",
        "plt.xlabel(\"Sentiment\")\n",
        "plt.ylabel(\"Count\")\n",
        "plt.show()\n",
        "\n",
        "# Splitting data\n",
        "X_train, X_test, y_train, y_test = train_test_split(df['cleaned_text'], df['sentiment'], test_size=0.2, random_state=42)\n",
        "\n",
        "# Vectorizing text\n",
        "vectorizer = TfidfVectorizer()\n",
        "X_train_vect = vectorizer.fit_transform(X_train)\n",
        "X_test_vect = vectorizer.transform(X_test)\n",
        "\n",
        "# Model Training\n",
        "model = LogisticRegression()\n",
        "model.fit(X_train_vect, y_train)\n",
        "\n",
        "# Predictions\n",
        "y_pred = model.predict(X_test_vect)\n",
        "print(\"Accuracy:\", accuracy_score(y_test, y_pred))\n",
        "print(classification_report(y_test, y_pred))"
      ],
      "metadata": {
        "colab": {
          "base_uri": "https://localhost:8080/",
          "height": 1000
        },
        "id": "Mn0oEjg8gjzZ",
        "outputId": "31746aed-fa16-4b32-b831-11cacbda1b37"
      },
      "execution_count": 5,
      "outputs": [
        {
          "output_type": "stream",
          "name": "stdout",
          "text": [
            "       textID                                               text sentiment  \\\n",
            "0  f87dea47db  Last session of the day  http://twitpic.com/67ezh   neutral   \n",
            "1  96d74cb729   Shanghai is also really exciting (precisely -...  positive   \n",
            "2  eee518ae67  Recession hit Veronique Branquinho, she has to...  negative   \n",
            "3  01082688c6                                        happy bday!  positive   \n",
            "4  33987a8ee5             http://twitpic.com/4w75p - I like it!!  positive   \n",
            "\n",
            "  Time of Tweet Age of User      Country  Population -2020  Land Area (Km²)  \\\n",
            "0       morning        0-20  Afghanistan        38928346.0         652860.0   \n",
            "1          noon       21-30      Albania         2877797.0          27400.0   \n",
            "2         night       31-45      Algeria        43851044.0        2381740.0   \n",
            "3       morning       46-60      Andorra           77265.0            470.0   \n",
            "4          noon       60-70       Angola        32866272.0        1246700.0   \n",
            "\n",
            "   Density (P/Km²)  \n",
            "0             60.0  \n",
            "1            105.0  \n",
            "2             18.0  \n",
            "3            164.0  \n",
            "4             26.0  \n",
            "sentiment\n",
            "neutral     1430\n",
            "positive    1103\n",
            "negative    1001\n",
            "Name: count, dtype: int64\n"
          ]
        },
        {
          "output_type": "display_data",
          "data": {
            "text/plain": [
              "<Figure size 640x480 with 1 Axes>"
            ],
            "image/png": "[encoded data removed]"
          },
          "metadata": {}
        },
        {
          "output_type": "stream",
          "name": "stdout",
          "text": [
            "Accuracy: 0.6449787835926449\n",
            "              precision    recall  f1-score   support\n",
            "\n",
            "          -1       0.74      0.53      0.62       207\n",
            "           0       0.57      0.73      0.64       286\n",
            "           1       0.71      0.64      0.67       214\n",
            "\n",
            "    accuracy                           0.64       707\n",
            "   macro avg       0.67      0.63      0.64       707\n",
            "weighted avg       0.66      0.64      0.64       707\n",
            "\n"
          ]
        }
      ]
    },
    {
      "cell_type": "code",
      "source": [
        "# Function for sentiment prediction\n",
        "def predict_sentiment(text):\n",
        "    cleaned_text = clean_text(text)\n",
        "    vectorized_text = vectorizer.transform([cleaned_text])\n",
        "    sentiment = model.predict(vectorized_text)[0]\n",
        "    sentiment_label = {1: 'Positive', 0: 'Neutral', -1: 'Negative'}\n",
        "    return sentiment_label[sentiment]\n",
        "\n",
        "# Example Usage\n",
        "while True:\n",
        "    user_input = input(\"Enter a phrase to analyze sentiment (or 'exit' to quit): \")\n",
        "    if user_input.lower() == 'exit':\n",
        "        break\n",
        "    print(\"Predicted Sentiment:\", predict_sentiment(user_input))"
      ],
      "metadata": {
        "colab": {
          "base_uri": "https://localhost:8080/"
        },
        "id": "u8X2fKfZjDsK",
        "outputId": "ae7f39a0-382d-4d7c-852e-c92b9d505d0f"
      },
      "execution_count": 6,
      "outputs": [
        {
          "name": "stdout",
          "output_type": "stream",
          "text": [
            "Enter a phrase to analyze sentiment (or 'exit' to quit): good\n",
            "Predicted Sentiment: Positive\n",
            "Enter a phrase to analyze sentiment (or 'exit' to quit): bad\n",
            "Predicted Sentiment: Negative\n",
            "Enter a phrase to analyze sentiment (or 'exit' to quit): medicore\n",
            "Predicted Sentiment: Neutral\n",
            "Enter a phrase to analyze sentiment (or 'exit' to quit): happy\n",
            "Predicted Sentiment: Positive\n",
            "Enter a phrase to analyze sentiment (or 'exit' to quit): sad\n",
            "Predicted Sentiment: Negative\n",
            "Enter a phrase to analyze sentiment (or 'exit' to quit): ok\n",
            "Predicted Sentiment: Neutral\n",
            "Enter a phrase to analyze sentiment (or 'exit' to quit): exit\n"
          ]
        }
      ]
    }
  ]
}